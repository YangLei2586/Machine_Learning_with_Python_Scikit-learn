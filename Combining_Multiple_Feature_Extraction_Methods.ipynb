{
 "cells": [
  {
   "cell_type": "code",
   "execution_count": 3,
   "metadata": {},
   "outputs": [],
   "source": [
    "# import packages\n",
    "from sklearn.pipeline import Pipeline, FeatureUnion\n",
    "from sklearn.model_selection import GridSearchCV\n",
    "from sklearn.svm import SVC\n",
    "from sklearn.datasets import load_iris\n",
    "from sklearn.decomposition import PCA\n",
    "from sklearn.feature_selection import SelectKBest"
   ]
  },
  {
   "cell_type": "code",
   "execution_count": 6,
   "metadata": {},
   "outputs": [],
   "source": [
    "# load dataset\n",
    "iris = load_iris()\n",
    "X, y = iris.data, iris.target"
   ]
  },
  {
   "cell_type": "code",
   "execution_count": 8,
   "metadata": {},
   "outputs": [
    {
     "name": "stdout",
     "output_type": "stream",
     "text": [
      "Combined space has 3 features\n"
     ]
    }
   ],
   "source": [
    "# This dataset has too many dimensions. So we will use PCA for dimension reduction\n",
    "pca = PCA(n_components=2)\n",
    "\n",
    "# Maybe some original features also good too\n",
    "selection = SelectKBest(k=1)\n",
    "\n",
    "# Build estimator from PCA and Univariate selection\n",
    "combined_features = FeatureUnion([(\"pca\",pca),(\"univ_select\", selection)])\n",
    "\n",
    "# Use combined features to transform dataset\n",
    "X_features = combined_features.fit(X,y).transform(X)\n",
    "print(\"Combined space has\", X_features.shape[1], \"features\")"
   ]
  },
  {
   "cell_type": "code",
   "execution_count": null,
   "metadata": {},
   "outputs": [],
   "source": [
    "svm = SVC(kernel=\"linear\")\n",
    "# Do grid search over k, n_components and C\n",
    "pipeline = Pipeline([(\"features\",combined_features),(\"svm\",svm)])\n",
    "\n",
    "param_grid = dict(features_pca_n_components=[1,2,3],\n",
    "                  features_univ_select_k=[1,2],\n",
    "                  svm_C=[0.1,1,10])\n",
    "\n",
    "grid_search = GridSearchCV(pipeline,param_grid=param_grid, cv=5, verbose=10)\n",
    "grid_search.fit(X,y)\n",
    "print(grid_search.best_estimator_)"
   ]
  }
 ],
 "metadata": {
  "kernelspec": {
   "display_name": "Python 3",
   "language": "python",
   "name": "python3"
  },
  "language_info": {
   "codemirror_mode": {
    "name": "ipython",
    "version": 3
   },
   "file_extension": ".py",
   "mimetype": "text/x-python",
   "name": "python",
   "nbconvert_exporter": "python",
   "pygments_lexer": "ipython3",
   "version": "3.7.0"
  }
 },
 "nbformat": 4,
 "nbformat_minor": 2
}
